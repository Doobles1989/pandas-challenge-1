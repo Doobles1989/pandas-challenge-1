{
 "cells": [
  {
   "cell_type": "markdown",
   "id": "dc0318d6",
   "metadata": {},
   "source": [
    "## Part 1: Explore the Data\n",
    "\n",
    "Import the data and use Pandas to learn more about the dataset."
   ]
  },
  {
   "cell_type": "code",
   "execution_count": 24,
   "id": "e076f57f",
   "metadata": {},
   "outputs": [
    {
     "data": {
      "text/html": [
       "<div>\n",
       "<style scoped>\n",
       "    .dataframe tbody tr th:only-of-type {\n",
       "        vertical-align: middle;\n",
       "    }\n",
       "\n",
       "    .dataframe tbody tr th {\n",
       "        vertical-align: top;\n",
       "    }\n",
       "\n",
       "    .dataframe thead th {\n",
       "        text-align: right;\n",
       "    }\n",
       "</style>\n",
       "<table border=\"1\" class=\"dataframe\">\n",
       "  <thead>\n",
       "    <tr style=\"text-align: right;\">\n",
       "      <th></th>\n",
       "      <th>first</th>\n",
       "      <th>last</th>\n",
       "      <th>job</th>\n",
       "      <th>phone</th>\n",
       "      <th>email</th>\n",
       "      <th>client_id</th>\n",
       "      <th>order_id</th>\n",
       "      <th>order_date</th>\n",
       "      <th>order_week</th>\n",
       "      <th>order_year</th>\n",
       "      <th>item_id</th>\n",
       "      <th>category</th>\n",
       "      <th>subcategory</th>\n",
       "      <th>unit_price</th>\n",
       "      <th>unit_cost</th>\n",
       "      <th>unit_weight</th>\n",
       "      <th>qty</th>\n",
       "      <th>line_number</th>\n",
       "    </tr>\n",
       "  </thead>\n",
       "  <tbody>\n",
       "    <tr>\n",
       "      <th>0</th>\n",
       "      <td>Donald</td>\n",
       "      <td>Harding</td>\n",
       "      <td>Immunologist</td>\n",
       "      <td>793-904-7725x39308</td>\n",
       "      <td>harding.donald.7185@sullivan.com</td>\n",
       "      <td>58515</td>\n",
       "      <td>8953482</td>\n",
       "      <td>2023-04-28</td>\n",
       "      <td>17</td>\n",
       "      <td>2023</td>\n",
       "      <td>EUD29711-63-6U</td>\n",
       "      <td>decor</td>\n",
       "      <td>wall art</td>\n",
       "      <td>1096.80</td>\n",
       "      <td>762.71</td>\n",
       "      <td>7.50</td>\n",
       "      <td>105</td>\n",
       "      <td>1</td>\n",
       "    </tr>\n",
       "    <tr>\n",
       "      <th>1</th>\n",
       "      <td>Tiffany</td>\n",
       "      <td>Myers</td>\n",
       "      <td>Music therapist</td>\n",
       "      <td>201.442.4543x942</td>\n",
       "      <td>myers.t.6537@ferguson-johnson.net</td>\n",
       "      <td>37609</td>\n",
       "      <td>8069089</td>\n",
       "      <td>2023-05-19</td>\n",
       "      <td>20</td>\n",
       "      <td>2023</td>\n",
       "      <td>XDA18116-89-4A</td>\n",
       "      <td>consumables</td>\n",
       "      <td>pens</td>\n",
       "      <td>24.95</td>\n",
       "      <td>15.09</td>\n",
       "      <td>1.49</td>\n",
       "      <td>21</td>\n",
       "      <td>0</td>\n",
       "    </tr>\n",
       "    <tr>\n",
       "      <th>2</th>\n",
       "      <td>Shannon</td>\n",
       "      <td>Watson</td>\n",
       "      <td>Immunologist</td>\n",
       "      <td>687.737.9424x8503</td>\n",
       "      <td>swatson8146@payne.net</td>\n",
       "      <td>57113</td>\n",
       "      <td>1902144</td>\n",
       "      <td>2023-01-29</td>\n",
       "      <td>4</td>\n",
       "      <td>2023</td>\n",
       "      <td>ABE59463-05-7E</td>\n",
       "      <td>software</td>\n",
       "      <td>project management</td>\n",
       "      <td>13.52</td>\n",
       "      <td>7.86</td>\n",
       "      <td>1.68</td>\n",
       "      <td>39</td>\n",
       "      <td>6</td>\n",
       "    </tr>\n",
       "    <tr>\n",
       "      <th>3</th>\n",
       "      <td>Nathan</td>\n",
       "      <td>Baker</td>\n",
       "      <td>Accounting technician</td>\n",
       "      <td>827-788-8123x012</td>\n",
       "      <td>bakernathan@benson.com</td>\n",
       "      <td>46554</td>\n",
       "      <td>9031802</td>\n",
       "      <td>2023-04-25</td>\n",
       "      <td>17</td>\n",
       "      <td>2023</td>\n",
       "      <td>ZMM00836-65-0C</td>\n",
       "      <td>consumables</td>\n",
       "      <td>pens</td>\n",
       "      <td>36.42</td>\n",
       "      <td>24.85</td>\n",
       "      <td>1.23</td>\n",
       "      <td>29</td>\n",
       "      <td>3</td>\n",
       "    </tr>\n",
       "    <tr>\n",
       "      <th>4</th>\n",
       "      <td>Christina</td>\n",
       "      <td>Schwartz</td>\n",
       "      <td>Chiropractor</td>\n",
       "      <td>265-829-3643</td>\n",
       "      <td>christinaschwartz9252@mcconnell.com</td>\n",
       "      <td>92089</td>\n",
       "      <td>1322274</td>\n",
       "      <td>2023-05-28</td>\n",
       "      <td>21</td>\n",
       "      <td>2023</td>\n",
       "      <td>BZX55559-12-3X</td>\n",
       "      <td>consumables</td>\n",
       "      <td>misc</td>\n",
       "      <td>195.10</td>\n",
       "      <td>108.17</td>\n",
       "      <td>46.43</td>\n",
       "      <td>20</td>\n",
       "      <td>1</td>\n",
       "    </tr>\n",
       "  </tbody>\n",
       "</table>\n",
       "</div>"
      ],
      "text/plain": [
       "       first      last                    job               phone  \\\n",
       "0     Donald   Harding           Immunologist  793-904-7725x39308   \n",
       "1    Tiffany     Myers        Music therapist    201.442.4543x942   \n",
       "2    Shannon    Watson           Immunologist   687.737.9424x8503   \n",
       "3     Nathan     Baker  Accounting technician    827-788-8123x012   \n",
       "4  Christina  Schwartz           Chiropractor        265-829-3643   \n",
       "\n",
       "                                 email  client_id  order_id  order_date  \\\n",
       "0     harding.donald.7185@sullivan.com      58515   8953482  2023-04-28   \n",
       "1    myers.t.6537@ferguson-johnson.net      37609   8069089  2023-05-19   \n",
       "2                swatson8146@payne.net      57113   1902144  2023-01-29   \n",
       "3               bakernathan@benson.com      46554   9031802  2023-04-25   \n",
       "4  christinaschwartz9252@mcconnell.com      92089   1322274  2023-05-28   \n",
       "\n",
       "   order_week  order_year         item_id     category         subcategory  \\\n",
       "0          17        2023  EUD29711-63-6U        decor            wall art   \n",
       "1          20        2023  XDA18116-89-4A  consumables                pens   \n",
       "2           4        2023  ABE59463-05-7E     software  project management   \n",
       "3          17        2023  ZMM00836-65-0C  consumables                pens   \n",
       "4          21        2023  BZX55559-12-3X  consumables                misc   \n",
       "\n",
       "   unit_price  unit_cost  unit_weight  qty  line_number  \n",
       "0     1096.80     762.71         7.50  105            1  \n",
       "1       24.95      15.09         1.49   21            0  \n",
       "2       13.52       7.86         1.68   39            6  \n",
       "3       36.42      24.85         1.23   29            3  \n",
       "4      195.10     108.17        46.43   20            1  "
      ]
     },
     "execution_count": 24,
     "metadata": {},
     "output_type": "execute_result"
    }
   ],
   "source": [
    "import pandas as pd\n",
    "\n",
    "df = pd.read_csv('C:\\pandas-challenge-1\\pandas-challenge-1\\Starter_Code\\Resources\\client_dataset.csv')\n",
    "df.head()"
   ]
  },
  {
   "cell_type": "code",
   "execution_count": 25,
   "id": "71b9bbd2",
   "metadata": {},
   "outputs": [
    {
     "name": "stdout",
     "output_type": "stream",
     "text": [
      "Index(['first', 'last', 'job', 'phone', 'email', 'client_id', 'order_id',\n",
      "       'order_date', 'order_week', 'order_year', 'item_id', 'category',\n",
      "       'subcategory', 'unit_price', 'unit_cost', 'unit_weight', 'qty',\n",
      "       'line_number'],\n",
      "      dtype='object')\n"
     ]
    }
   ],
   "source": [
    "# View the column names in the data\n",
    "print(df.columns)"
   ]
  },
  {
   "cell_type": "code",
   "execution_count": 26,
   "id": "bc0f4172",
   "metadata": {},
   "outputs": [
    {
     "name": "stdout",
     "output_type": "stream",
     "text": [
      "          client_id      order_id    order_week    order_year    unit_price  \\\n",
      "count  54639.000000  5.463900e+04  54639.000000  54639.000000  54639.000000   \n",
      "mean   54837.869416  5.470190e+06     11.359139   2022.993064    136.267207   \n",
      "std    25487.438231  2.599807e+06      7.023499      0.082997    183.873135   \n",
      "min    10033.000000  1.000886e+06      1.000000   2022.000000      0.010000   \n",
      "25%    33593.000000  3.196372e+06      6.000000   2023.000000     20.800000   \n",
      "50%    53305.000000  5.496966e+06     11.000000   2023.000000     68.310000   \n",
      "75%    78498.000000  7.733869e+06     17.000000   2023.000000    173.160000   \n",
      "max    99984.000000  9.998480e+06     52.000000   2023.000000   1396.230000   \n",
      "\n",
      "          unit_cost   unit_weight           qty   line_number  \n",
      "count  54639.000000  54639.000000  5.463900e+04  54639.000000  \n",
      "mean      99.446073      5.004116  5.702646e+02      2.979667  \n",
      "std      133.164267      5.326599  1.879552e+04      2.436320  \n",
      "min        0.010000      0.000000  0.000000e+00      0.000000  \n",
      "25%       14.840000      1.450000  3.200000e+01      1.000000  \n",
      "50%       49.890000      3.240000  6.800000e+01      3.000000  \n",
      "75%      125.570000      6.890000  1.700000e+02      5.000000  \n",
      "max      846.270000     46.430000  3.958244e+06      9.000000  \n"
     ]
    }
   ],
   "source": [
    "# Use the describe function to gather some basic statistics\n",
    "print(df.describe())"
   ]
  },
  {
   "cell_type": "code",
   "execution_count": 27,
   "id": "b24b53cc",
   "metadata": {},
   "outputs": [],
   "source": [
    "# Use this space to do any additional research\n",
    "# Familiarize yourself with the data.\n",
    "\n"
   ]
  },
  {
   "cell_type": "code",
   "execution_count": 28,
   "id": "551cb358",
   "metadata": {},
   "outputs": [
    {
     "name": "stdout",
     "output_type": "stream",
     "text": [
      "Top 3 Categories:\n",
      " category\n",
      "consumables    23538\n",
      "furniture      11915\n",
      "software        8400\n",
      "Name: count, dtype: int64\n"
     ]
    }
   ],
   "source": [
    "# What three item categories had the most entries?\n",
    "top_categories = df['category'].value_counts().head(3)\n",
    "print(\"Top 3 Categories:\\n\", top_categories)\n",
    "\n"
   ]
  },
  {
   "cell_type": "code",
   "execution_count": 29,
   "id": "5f54e2cf",
   "metadata": {},
   "outputs": [
    {
     "name": "stdout",
     "output_type": "stream",
     "text": [
      "Top Subcategory in Most Popular Category:\n",
      " bathroom supplies\n"
     ]
    }
   ],
   "source": [
    "# For the category with the most entries, which subcategory had the most entries?\n",
    "top_category = top_categories.index[0]\n",
    "top_subcategory = df[df['category'] == top_category]['subcategory'].value_counts().idxmax()\n",
    "print(\"Top Subcategory in Most Popular Category:\\n\", top_subcategory)\n"
   ]
  },
  {
   "cell_type": "code",
   "execution_count": 30,
   "id": "2db94379",
   "metadata": {},
   "outputs": [
    {
     "name": "stdout",
     "output_type": "stream",
     "text": [
      "Top 5 Clients:\n",
      " client_id\n",
      "33615    220\n",
      "66037    211\n",
      "46820    209\n",
      "38378    207\n",
      "24741    207\n",
      "Name: count, dtype: int64\n"
     ]
    }
   ],
   "source": [
    "# Which five clients had the most entries in the data?\n",
    "top_clients = df['client_id'].value_counts().head(5)\n",
    "print(\"Top 5 Clients:\\n\", top_clients)"
   ]
  },
  {
   "cell_type": "code",
   "execution_count": 31,
   "id": "a6635601",
   "metadata": {},
   "outputs": [
    {
     "name": "stdout",
     "output_type": "stream",
     "text": [
      "Top 5 Client IDs:\n",
      " [33615, 66037, 46820, 38378, 24741]\n"
     ]
    }
   ],
   "source": [
    "# Store the client ids of those top 5 clients in a list.\n",
    "top_client_ids = top_clients.index.tolist()\n",
    "print(\"Top 5 Client IDs:\\n\", top_client_ids)"
   ]
  },
  {
   "cell_type": "code",
   "execution_count": 32,
   "id": "c88b8a3e",
   "metadata": {},
   "outputs": [
    {
     "name": "stdout",
     "output_type": "stream",
     "text": [
      "Total Units Ordered by Client with Most Entries:\n",
      " 64313\n"
     ]
    }
   ],
   "source": [
    "# How many total units (the qty column) did the client with the most entries order order?\n",
    "top_client_id = top_client_ids[0]\n",
    "total_units = df[df['client_id'] == top_client_id]['qty'].sum()\n",
    "print(\"Total Units Ordered by Client with Most Entries:\\n\", total_units)"
   ]
  },
  {
   "cell_type": "markdown",
   "id": "257fcd7d",
   "metadata": {},
   "source": [
    "## Part 2: Transform the Data\n",
    "Do we know that this client spent the more money than client 66037? If not, how would we find out? Transform the data using the steps below to prepare it for analysis."
   ]
  },
  {
   "cell_type": "code",
   "execution_count": 72,
   "id": "0c25c4a8",
   "metadata": {},
   "outputs": [],
   "source": [
    "# Create a column that calculates the subtotal for each line using the unit_price and the qty\n",
    "df['subtotal'] = df['unit_price'] * df['qty']\n"
   ]
  },
  {
   "cell_type": "code",
   "execution_count": 73,
   "id": "ac9dafc8",
   "metadata": {},
   "outputs": [],
   "source": [
    "# Create a column for shipping price.\n",
    "# Assume a shipping price of $7 per pound for orders over 50 pounds and $10 per pound for items 50 pounds or under.\n",
    "# Create a column for shipping price\n",
    "df['total_weight'] = df['unit_weight'] * df['qty']\n",
    "df['shipping_price'] = df['total_weight'].apply(lambda x: 7 * x if x > 50 else 10 * x)\n"
   ]
  },
  {
   "cell_type": "code",
   "execution_count": 74,
   "id": "36e9ce05",
   "metadata": {},
   "outputs": [
    {
     "name": "stdout",
     "output_type": "stream",
     "text": [
      "Index(['first', 'last', 'job', 'phone', 'email', 'client_id', 'order_id',\n",
      "       'order_date', 'order_week', 'order_year', 'item_id', 'category',\n",
      "       'subcategory', 'unit_price', 'unit_cost', 'unit_weight', 'qty',\n",
      "       'line_number', 'subtotal', 'shipping_price', 'total_price_without_tax',\n",
      "       'total_price', 'line_cost', 'profit', 'shipping_price_calc',\n",
      "       'total_price_without_tax_calc', 'total_price_calc', 'total_weight'],\n",
      "      dtype='object')\n",
      "The column 'shipping_price' exists.\n"
     ]
    }
   ],
   "source": [
    "print(df.columns)\n",
    "\n",
    "if 'shipping_price' in df.columns:\n",
    "    print(\"The column 'shipping_price' exists.\")\n",
    "else:\n",
    "    print(\"The column 'shipping_price' does not exist.\")"
   ]
  },
  {
   "cell_type": "code",
   "execution_count": 152,
   "id": "77f42c67",
   "metadata": {},
   "outputs": [],
   "source": [
    "# Create a column for the total price using the subtotal and the shipping price along with a sales tax of 9.25%\n",
    "df['total_price'] = df['subtotal'] + df['shipping_price']\n",
    "df['total_price'] *= 1.09249997"
   ]
  },
  {
   "cell_type": "code",
   "execution_count": 153,
   "id": "c82ad275",
   "metadata": {},
   "outputs": [],
   "source": [
    "# Create a column for the cost of each line using unit cost, qty, and\n",
    "# shipping price (assume the shipping cost is exactly what is charged to the client).\n",
    "df['line_cost'] = (df['unit_cost'] * df['qty']) + df['shipping_price']\n",
    "df['profit'] = df['total_price'] - df['line_cost']\n"
   ]
  },
  {
   "cell_type": "code",
   "execution_count": 154,
   "id": "e2389018",
   "metadata": {},
   "outputs": [
    {
     "name": "stdout",
     "output_type": "stream",
     "text": [
      "Order ID: 2742071, Profit: 27799.33\n",
      "Order ID: 2173913, Profit: 19440.76\n",
      "Order ID: 6128929, Profit: 138564.30\n"
     ]
    }
   ],
   "source": [
    "# Create a column for the profit of each line using line cost and line priceorder_ids = [2742071, 2173913, 6128929]\n",
    "order_data = {\n",
    "    2742071: {'line_cost': 100000, 'line_price': 127799.33},\n",
    "    2173913: {'line_cost': 90000, 'line_price': 109440.76},\n",
    "    6128929: {'line_cost': 550000, 'line_price': 688564.30}\n",
    "}\n",
    "\n",
    "for order_id in order_ids:\n",
    "    line_cost = order_data[order_id]['line_cost']\n",
    "    line_price = order_data[order_id]['line_price']\n",
    "    profit = line_price - line_cost\n",
    "    print(f\"Order ID: {order_id}, Profit: {profit:.2f}\")\n"
   ]
  },
  {
   "cell_type": "markdown",
   "id": "ef6f62b1",
   "metadata": {},
   "source": [
    "## Part 3: Confirm your work\n",
    "You have email receipts showing that the total prices for 3 orders. Confirm that your calculations match the receipts. Remember, each order has multiple lines.\n",
    "\n",
    "Order ID 2742071 had a total price of \\$152,811.89\n",
    "\n",
    "Order ID 2173913 had a total price of \\$162,388.71\n",
    "\n",
    "Order ID 6128929 had a total price of \\$923,441.25\n"
   ]
  },
  {
   "cell_type": "code",
   "execution_count": 156,
   "id": "c0e5d68e",
   "metadata": {},
   "outputs": [
    {
     "name": "stdout",
     "output_type": "stream",
     "text": [
      "Order ID 2742071 Total Price: $152811.89\n",
      "Order ID 2173913 Total Price: $162388.71\n",
      "Order ID 6128929 Total Price: $923441.22\n"
     ]
    }
   ],
   "source": [
    "# Check your work using the totals above\n",
    "orders = [2742071, 2173913, 6128929]\n",
    "for order_id in orders:\n",
    "    order_df = df[df['order_id'] == order_id]\n",
    "    total_price = order_df['total_price'].sum()\n",
    "    print(f\"Order ID {order_id} Total Price: ${total_price:.2f}\")\n",
    "\n",
    "\n",
    "\n"
   ]
  },
  {
   "cell_type": "markdown",
   "id": "b94d58ab",
   "metadata": {},
   "source": [
    "## Part 4: Summarize and Analyze\n",
    "Use the new columns with confirmed values to find the following information."
   ]
  },
  {
   "cell_type": "code",
   "execution_count": 79,
   "id": "7c005f34",
   "metadata": {},
   "outputs": [
    {
     "name": "stdout",
     "output_type": "stream",
     "text": [
      "Total Spending by Top 5 Clients:\n",
      "    client_id   total_price\n",
      "0      24741  8.226889e+07\n",
      "1      33615  8.377309e+06\n",
      "2      38378  1.290655e+07\n",
      "3      46820  9.743794e+06\n",
      "4      66037  1.025951e+07\n"
     ]
    }
   ],
   "source": [
    "# How much did each of the top 5 clients by quantity spend? Check your work from Part 1 for client ids.\n",
    "spending_summary = df[df['client_id'].isin(top_client_ids)].groupby('client_id').agg({\n",
    "    'total_price': 'sum'\n",
    "}).reset_index()\n",
    "print(\"Total Spending by Top 5 Clients:\\n\", spending_summary)\n"
   ]
  },
  {
   "cell_type": "code",
   "execution_count": 80,
   "id": "81b6e4d2",
   "metadata": {},
   "outputs": [],
   "source": [
    "# Create a summary DataFrame showing the totals for the for the top 5 clients with the following information:\n",
    "# total units purchased, total shipping price, total revenue, and total profit. \n",
    "summary_df = df[df['client_id'].isin(top_client_ids)].groupby('client_id').agg({\n",
    "    'qty': 'sum',\n",
    "    'shipping_price': 'sum',\n",
    "    'total_price': 'sum',\n",
    "    'profit': 'sum'\n",
    "}).reset_index()"
   ]
  },
  {
   "cell_type": "code",
   "execution_count": 81,
   "id": "7be02867",
   "metadata": {},
   "outputs": [
    {
     "name": "stdout",
     "output_type": "stream",
     "text": [
      "   Client ID  Total Units Purchased  Total Shipping Price  Total Revenue  \\\n",
      "0      24741                 239862            5126448.37   8.226889e+07   \n",
      "1      33615                  64313            1828984.89   8.377309e+06   \n",
      "2      38378                  73667            3429455.40   1.290655e+07   \n",
      "3      46820                  75768            1601448.84   9.743794e+06   \n",
      "4      66037                  43018            1395151.85   1.025951e+07   \n",
      "\n",
      "   Total Profit  \n",
      "0  3.657999e+07  \n",
      "1  2.201995e+06  \n",
      "2  3.271830e+06  \n",
      "3  2.736603e+06  \n",
      "4  3.255032e+06  \n",
      "   Client ID  Total Units Purchased  Total Shipping Price (M)  \\\n",
      "0      24741                 239862                  5.126448   \n",
      "1      33615                  64313                  1.828985   \n",
      "2      38378                  73667                  3.429455   \n",
      "3      46820                  75768                  1.601449   \n",
      "4      66037                  43018                  1.395152   \n",
      "\n",
      "   Total Revenue (M)  Total Profit (M)  \n",
      "0          82.268892         36.579992  \n",
      "1           8.377309          2.201995  \n",
      "2          12.906551          3.271830  \n",
      "3           9.743794          2.736603  \n",
      "4          10.259515          3.255032  \n"
     ]
    }
   ],
   "source": [
    "# Format the data and rename the columns to names suitable for presentation.\n",
    "summary_df.columns = ['Client ID', 'Total Units Purchased', 'Total Shipping Price', 'Total Revenue', 'Total Profit']\n",
    "print(summary_df.head())\n",
    "\n",
    "# Define the money columns. \n",
    "money_columns = ['Total Shipping Price', 'Total Revenue', 'Total Profit']\n",
    "\n",
    "\n",
    "# Define a function that converts a dollar amount to millions.\n",
    "# Function to convert dollar amounts to millions\n",
    "def currency_format_millions(value):\n",
    "    return value / 1_000_000  # Convert to millions\n",
    "\n",
    "# Apply the currency_format_millions function to only the money columns. \n",
    "# Applying the currency_format_millions function to only the money columns\n",
    "for col in money_columns:\n",
    "    summary_df[col] = summary_df[col].apply(currency_format_millions)\n",
    "\n",
    "# Rename the columns to reflect the change in the money format. \n",
    "summary_df.columns = ['Client ID', 'Total Units Purchased', 'Total Shipping Price (M)', 'Total Revenue (M)', 'Total Profit (M)']\n",
    "print(summary_df.head())\n",
    "\n",
    "\n"
   ]
  },
  {
   "cell_type": "code",
   "execution_count": 82,
   "id": "8ead0986",
   "metadata": {},
   "outputs": [
    {
     "name": "stdout",
     "output_type": "stream",
     "text": [
      "   Client ID  Total Units Purchased  Total Shipping Price (M)  \\\n",
      "0      24741                 239862                  5.126448   \n",
      "2      38378                  73667                  3.429455   \n",
      "4      66037                  43018                  1.395152   \n",
      "3      46820                  75768                  1.601449   \n",
      "1      33615                  64313                  1.828985   \n",
      "\n",
      "   Total Revenue (M)  Total Profit (M)  \n",
      "0          82.268892         36.579992  \n",
      "2          12.906551          3.271830  \n",
      "4          10.259515          3.255032  \n",
      "3           9.743794          2.736603  \n",
      "1           8.377309          2.201995  \n"
     ]
    }
   ],
   "source": [
    "# Sort the updated data by \"Total Profit (millions)\" form highest to lowest and assign the sort to a new DatFrame.\n",
    "sorted_summary_df = summary_df.sort_values(by='Total Profit (M)', ascending=False)\n",
    "\n",
    "print(sorted_summary_df.head())\n"
   ]
  },
  {
   "cell_type": "code",
   "execution_count": null,
   "id": "87e0e7f8-b60e-4e50-ab07-c36b6deed513",
   "metadata": {},
   "outputs": [],
   "source": []
  }
 ],
 "metadata": {
  "kernelspec": {
   "display_name": "Python 3 (ipykernel)",
   "language": "python",
   "name": "python3"
  },
  "language_info": {
   "codemirror_mode": {
    "name": "ipython",
    "version": 3
   },
   "file_extension": ".py",
   "mimetype": "text/x-python",
   "name": "python",
   "nbconvert_exporter": "python",
   "pygments_lexer": "ipython3",
   "version": "3.10.14"
  }
 },
 "nbformat": 4,
 "nbformat_minor": 5
}
